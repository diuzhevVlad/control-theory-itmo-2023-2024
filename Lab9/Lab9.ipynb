{
 "cells": [
  {
   "cell_type": "markdown",
   "metadata": {},
   "source": [
    "# Laboratory practice № 9 (Linear Matrix Inequalities)"
   ]
  },
  {
   "cell_type": "markdown",
   "metadata": {},
   "source": [
    "Done by Vladislav Diuzhev (isu: 336225, group: R33353)"
   ]
  },
  {
   "cell_type": "markdown",
   "metadata": {},
   "source": [
    "Variant: 8"
   ]
  },
  {
   "cell_type": "markdown",
   "metadata": {},
   "source": [
    "## Preparation"
   ]
  },
  {
   "cell_type": "code",
   "execution_count": 100,
   "metadata": {},
   "outputs": [],
   "source": [
    "import matplotlib.pyplot as plt\n",
    "import control as ctrl\n",
    "import sympy\n",
    "import numpy as np\n",
    "from sympy.utilities.lambdify import lambdify\n",
    "import scipy\n",
    "import cvxpy as cp"
   ]
  },
  {
   "cell_type": "markdown",
   "metadata": {},
   "source": [
    "## Task 1"
   ]
  },
  {
   "cell_type": "code",
   "execution_count": 101,
   "metadata": {},
   "outputs": [],
   "source": [
    "A = np.array([\n",
    "    [-1, 0, 0, 0],\n",
    "    [0, 2, 0, 0],\n",
    "    [0, 0, 3, 4],\n",
    "    [0, 0, -4, 3]\n",
    "])\n",
    "\n",
    "B = np.array([\n",
    "    [0],\n",
    "    [5],\n",
    "    [0],\n",
    "    [6]\n",
    "])"
   ]
  },
  {
   "cell_type": "code",
   "execution_count": 102,
   "metadata": {},
   "outputs": [
    {
     "data": {
      "text/plain": [
       "array([ 3.+4.j,  3.-4.j, -1.+0.j,  2.+0.j])"
      ]
     },
     "execution_count": 102,
     "metadata": {},
     "output_type": "execute_result"
    }
   ],
   "source": [
    "np.linalg.eigvals(A)"
   ]
  },
  {
   "cell_type": "code",
   "execution_count": 103,
   "metadata": {},
   "outputs": [],
   "source": [
    "alphas = [0.1, 0.5, 1]"
   ]
  },
  {
   "cell_type": "code",
   "execution_count": 156,
   "metadata": {},
   "outputs": [],
   "source": [
    "def get_K_LMI(a, b, alpha):\n",
    "    P = cp.Variable((4,4),PSD=True)\n",
    "    Y = cp.Variable((1,4)) \n",
    "    prob = cp.Problem(cp.Maximize(0),[P >> np.eye(4), P@a.T + a@P + 2*alpha*P + Y.T @ b.T + b@Y << 0])\n",
    "    prob.solve()\n",
    "    print(P.value, Y.value)\n",
    "    return Y.value @ np.linalg.inv(P.value) \n",
    "\n",
    "def get_K_LMI_mu(a, b, alpha, x0, mu=None):\n",
    "    P = cp.Variable((4,4),PSD=True)\n",
    "    Y = cp.Variable((1,4)) \n",
    "    if mu is None:\n",
    "        mu_ = cp.Variable((1,1))\n",
    "    else:\n",
    "        mu_ = mu\n",
    "    sub1 = cp.bmat([\n",
    "        [P, x0],\n",
    "        [x0.T, [[1]]]\n",
    "    ])\n",
    "    if mu is None:\n",
    "        sub2 = cp.bmat([\n",
    "            [P, Y.T],\n",
    "            [Y, mu_]\n",
    "        ])\n",
    "    else:\n",
    "        sub2 = cp.bmat([\n",
    "            [P, Y.T],\n",
    "            [Y, [[mu_*mu_]]]\n",
    "        ])\n",
    "    res = prob = cp.Problem(cp.Maximize(0) if mu is not None else cp.Minimize(mu_),\n",
    "                      [P >> np.eye(4), \n",
    "                       P@a.T + a@P + 2*alpha*P + Y.T @ b.T + b@Y << 0,\n",
    "                       sub1 >> 0, sub2 >> 0])\n",
    "    prob.solve()\n",
    "    print(P.value, Y.value)\n",
    "    return Y.value @ np.linalg.inv(P.value), np.sqrt(res.value)"
   ]
  },
  {
   "cell_type": "code",
   "execution_count": 157,
   "metadata": {},
   "outputs": [
    {
     "name": "stdout",
     "output_type": "stream",
     "text": [
      "[[  658.62362884     0.             0.             0.        ]\n",
      " [    0.          2559.9522096  -1244.63244745  1707.71045091]\n",
      " [    0.         -1244.63244745   810.07511982  -640.26490679]\n",
      " [    0.          1707.71045091  -640.26490679  1947.93990446]] [[    0.         -1089.1784326    -86.63386372 -1441.37987897]]\n",
      "[[  872.45278574     0.             0.             0.        ]\n",
      " [    0.          3494.67399112 -1640.94180368  2552.06683463]\n",
      " [    0.         -1640.94180368  1031.84283688  -913.98437867]\n",
      " [    0.          2552.06683463  -913.98437867  2778.25857689]] [[    0.         -1761.40094083   -87.53633521 -2238.11261583]]\n",
      "[[ 1246.7448991      0.             0.             0.        ]\n",
      " [    0.          4983.64016877 -2220.33379323  3973.97683045]\n",
      " [    0.         -2220.33379323  1347.0275877  -1356.23602621]\n",
      " [    0.          3973.97683045 -1356.23602621  4201.57703627]] [[    0.         -3003.65289183   -84.8805141  -3713.00314942]]\n"
     ]
    }
   ],
   "source": [
    "Ks = [get_K_LMI(A,B,alph) for alph in alphas]"
   ]
  },
  {
   "cell_type": "code",
   "execution_count": 158,
   "metadata": {},
   "outputs": [
    {
     "data": {
      "text/plain": [
       "array([-0.47+6.893j, -0.47-6.893j, -0.59+0.j   , -1.  +0.j   ])"
      ]
     },
     "execution_count": 158,
     "metadata": {},
     "output_type": "execute_result"
    }
   ],
   "source": [
    "np.round(np.linalg.eigvals(A + B@Ks[0]),3)"
   ]
  },
  {
   "cell_type": "code",
   "execution_count": 159,
   "metadata": {},
   "outputs": [
    {
     "data": {
      "text/plain": [
       "array([-0.884+7.444j, -0.884-7.444j, -0.983+0.j   , -1.   +0.j   ])"
      ]
     },
     "execution_count": 159,
     "metadata": {},
     "output_type": "execute_result"
    }
   ],
   "source": [
    "np.round(np.linalg.eigvals(A + B@Ks[1]),3)"
   ]
  },
  {
   "cell_type": "code",
   "execution_count": 160,
   "metadata": {},
   "outputs": [
    {
     "data": {
      "text/plain": [
       "array([-1.378+8.141j, -1.378-8.141j, -1.455+0.j   , -1.   +0.j   ])"
      ]
     },
     "execution_count": 160,
     "metadata": {},
     "output_type": "execute_result"
    }
   ],
   "source": [
    "np.round(np.linalg.eigvals(A + B@Ks[2]),3)"
   ]
  },
  {
   "cell_type": "markdown",
   "metadata": {},
   "source": [
    "## Task 2"
   ]
  },
  {
   "cell_type": "code",
   "execution_count": 161,
   "metadata": {},
   "outputs": [],
   "source": [
    "X_0 = np.array([\n",
    "    [1],\n",
    "    [1],\n",
    "    [1],\n",
    "    [1]\n",
    "])"
   ]
  },
  {
   "cell_type": "code",
   "execution_count": 165,
   "metadata": {},
   "outputs": [
    {
     "name": "stdout",
     "output_type": "stream",
     "text": [
      "[[309.19798418   5.72350992  -1.73685813   1.09457941]\n",
      " [  5.72350992  32.77819816 -16.13744388  17.99377376]\n",
      " [ -1.73685813 -16.13744388  10.2515925   -7.94437157]\n",
      " [  1.09457941  17.99377376  -7.94437157  18.98205385]] [[ -1.79501966 -13.76738712   2.38899421 -15.10387183]]\n"
     ]
    }
   ],
   "source": [
    "K, res = get_K_LMI_mu(A,B,0.1,X_0)"
   ]
  },
  {
   "cell_type": "code",
   "execution_count": 166,
   "metadata": {},
   "outputs": [
    {
     "data": {
      "text/plain": [
       "4.240468209294919"
      ]
     },
     "execution_count": 166,
     "metadata": {},
     "output_type": "execute_result"
    }
   ],
   "source": [
    "res"
   ]
  },
  {
   "cell_type": "markdown",
   "metadata": {},
   "source": [
    "## Task 3"
   ]
  },
  {
   "cell_type": "code",
   "execution_count": 167,
   "metadata": {},
   "outputs": [],
   "source": [
    "A = np.array([\n",
    "    [0, 3, 0 ,0],\n",
    "    [-3, 0, 0, 0],\n",
    "    [0, 0, 0, 1],\n",
    "    [0, 0, -1, 0]\n",
    "])\n",
    "C = np.array([2, 0, 0, 3]).reshape((1,-1))"
   ]
  },
  {
   "cell_type": "code",
   "execution_count": 170,
   "metadata": {},
   "outputs": [],
   "source": [
    "def get_L_LMI(a, c, alpha):\n",
    "    Q = cp.Variable((4,4),PSD=True)\n",
    "    Y = cp.Variable((4,1)) \n",
    "    prob = cp.Problem(cp.Maximize(0),[Q >> np.eye(4), \n",
    "                                      a.T@Q + Q@A + 2*alpha*Q + c.T@Y.T + Y@c << 0])\n",
    "    prob.solve()\n",
    "    print(Q.value, Y.value)\n",
    "    return np.linalg.inv(Q.value) @ Y.value\n"
   ]
  },
  {
   "cell_type": "code",
   "execution_count": 183,
   "metadata": {},
   "outputs": [
    {
     "name": "stdout",
     "output_type": "stream",
     "text": [
      "[[ 4.85548884e+09 -7.68053370e+08  3.91824616e+08  7.44034924e+09]\n",
      " [-7.68053370e+08  2.56016127e+08 -1.33909145e+08 -1.23482950e+09]\n",
      " [ 3.91824616e+08 -1.33909145e+08  7.02628960e+07  6.32428831e+08]\n",
      " [ 7.44034924e+09 -1.23482950e+09  6.32428831e+08  1.14326057e+10]] [[-2.30017809e+10]\n",
      " [ 1.32663361e+07]\n",
      " [-7.12085103e+06]\n",
      " [-3.45086270e+10]]\n"
     ]
    },
    {
     "data": {
      "text/plain": [
       "array([[1404.68090962],\n",
       "       [2235.74544504],\n",
       "       [4998.15624929],\n",
       "       [-952.19227759]])"
      ]
     },
     "execution_count": 183,
     "metadata": {},
     "output_type": "execute_result"
    }
   ],
   "source": [
    "get_L_LMI(A,C,9)"
   ]
  },
  {
   "cell_type": "code",
   "execution_count": null,
   "metadata": {},
   "outputs": [],
   "source": []
  }
 ],
 "metadata": {
  "kernelspec": {
   "display_name": "control",
   "language": "python",
   "name": "python3"
  },
  "language_info": {
   "codemirror_mode": {
    "name": "ipython",
    "version": 3
   },
   "file_extension": ".py",
   "mimetype": "text/x-python",
   "name": "python",
   "nbconvert_exporter": "python",
   "pygments_lexer": "ipython3",
   "version": "3.10.11"
  }
 },
 "nbformat": 4,
 "nbformat_minor": 2
}
