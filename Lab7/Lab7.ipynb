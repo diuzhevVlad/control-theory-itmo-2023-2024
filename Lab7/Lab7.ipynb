{
 "cells": [
  {
   "cell_type": "markdown",
   "metadata": {},
   "source": [
    "# Laboratory practice № 7 (Controlability and observability)"
   ]
  },
  {
   "cell_type": "markdown",
   "metadata": {},
   "source": [
    "Done by Vladislav Diuzhev (isu: 336225, group: R33353)"
   ]
  },
  {
   "cell_type": "markdown",
   "metadata": {},
   "source": [
    "Variant: 8"
   ]
  },
  {
   "cell_type": "markdown",
   "metadata": {},
   "source": [
    "## Preparation"
   ]
  },
  {
   "cell_type": "code",
   "execution_count": 2,
   "metadata": {},
   "outputs": [],
   "source": [
    "import matplotlib.pyplot as plt\n",
    "import control as ctrl\n",
    "import sympy\n",
    "import numpy as np\n",
    "from sympy.utilities.lambdify import lambdify\n",
    "from matplotlib.ticker import FormatStrFormatter"
   ]
  },
  {
   "cell_type": "code",
   "execution_count": 3,
   "metadata": {},
   "outputs": [],
   "source": [
    "dt = 0.001"
   ]
  },
  {
   "cell_type": "code",
   "execution_count": 4,
   "metadata": {},
   "outputs": [],
   "source": [
    "t = sympy.symbols(\"t\",real=True)"
   ]
  },
  {
   "cell_type": "code",
   "execution_count": 5,
   "metadata": {},
   "outputs": [],
   "source": [
    "def grammian_cont(a, b, t_1):\n",
    "    return sympy.integrate(sympy.exp(a*t) @ b @ b.T @ sympy.exp(a.T*t),(t,0,t_1))"
   ]
  },
  {
   "cell_type": "markdown",
   "metadata": {},
   "source": [
    "## Task 1"
   ]
  },
  {
   "cell_type": "code",
   "execution_count": 6,
   "metadata": {},
   "outputs": [],
   "source": [
    "A = np.array([\n",
    "    [7, -7, 8],\n",
    "    [6, -5, 6],\n",
    "    [-6, 4, -7]\n",
    "])\n",
    "\n",
    "B = np.array([\n",
    "    [-4],\n",
    "    [-2],\n",
    "    [4]\n",
    "])\n",
    "\n",
    "x_1 = np.array([\n",
    "    [5],\n",
    "    [3],\n",
    "    [-3]\n",
    "])"
   ]
  },
  {
   "cell_type": "markdown",
   "metadata": {},
   "source": [
    "### subtask 1"
   ]
  },
  {
   "cell_type": "code",
   "execution_count": 7,
   "metadata": {},
   "outputs": [
    {
     "data": {
      "text/plain": [
       "array([[ -4,  18, -40],\n",
       "       [ -2,  10, -14],\n",
       "       [  4, -12,  16]])"
      ]
     },
     "execution_count": 7,
     "metadata": {},
     "output_type": "execute_result"
    }
   ],
   "source": [
    "U = np.concatenate([B, A.dot(B), A.dot(A.dot(B))],axis=1)\n",
    "U"
   ]
  },
  {
   "cell_type": "code",
   "execution_count": 8,
   "metadata": {},
   "outputs": [
    {
     "data": {
      "text/plain": [
       "3"
      ]
     },
     "execution_count": 8,
     "metadata": {},
     "output_type": "execute_result"
    }
   ],
   "source": [
    "np.linalg.matrix_rank(U)"
   ]
  },
  {
   "cell_type": "markdown",
   "metadata": {},
   "source": [
    "Rank of controllability matrix is n, so the system is fully controllable"
   ]
  },
  {
   "cell_type": "markdown",
   "metadata": {},
   "source": [
    "### subtask 2"
   ]
  },
  {
   "cell_type": "code",
   "execution_count": 9,
   "metadata": {},
   "outputs": [],
   "source": [
    "A_sym = sympy.Matrix(A)\n",
    "B_sym = sympy.Matrix(B)\n",
    "P, J = A_sym.jordan_form()\n",
    "J"
   ]
  },
  {
   "cell_type": "code",
   "execution_count": 12,
   "metadata": {},
   "outputs": [
    {
     "data": {
      "text/latex": [
       "$\\displaystyle \\left[\\begin{matrix}-1 & - \\frac{3}{2} + \\frac{i}{2} & - \\frac{3}{2} - \\frac{i}{2}\\\\0 & -1 & -1\\\\1 & 1 & 1\\end{matrix}\\right]$"
      ],
      "text/plain": [
       "Matrix([\n",
       "[-1, -3/2 + I/2, -3/2 - I/2],\n",
       "[ 0,         -1,         -1],\n",
       "[ 1,          1,          1]])"
      ]
     },
     "execution_count": 12,
     "metadata": {},
     "output_type": "execute_result"
    }
   ],
   "source": [
    "P"
   ]
  },
  {
   "cell_type": "markdown",
   "metadata": {},
   "source": [
    "Method 1 (rank criterion):"
   ]
  },
  {
   "cell_type": "code",
   "execution_count": 13,
   "metadata": {},
   "outputs": [
    {
     "data": {
      "text/plain": [
       "3"
      ]
     },
     "execution_count": 13,
     "metadata": {},
     "output_type": "execute_result"
    }
   ],
   "source": [
    "np.linalg.matrix_rank(np.concatenate([A-(-1)*np.identity(3),B],axis=1))"
   ]
  },
  {
   "cell_type": "code",
   "execution_count": 14,
   "metadata": {},
   "outputs": [
    {
     "data": {
      "text/plain": [
       "3"
      ]
     },
     "execution_count": 14,
     "metadata": {},
     "output_type": "execute_result"
    }
   ],
   "source": [
    "np.linalg.matrix_rank(np.concatenate([A-(-2 - 3j)*np.identity(3),B],axis=1))"
   ]
  },
  {
   "cell_type": "code",
   "execution_count": 15,
   "metadata": {},
   "outputs": [
    {
     "data": {
      "text/plain": [
       "3"
      ]
     },
     "execution_count": 15,
     "metadata": {},
     "output_type": "execute_result"
    }
   ],
   "source": [
    "np.linalg.matrix_rank(np.concatenate([A-(-2 + 3j)*np.identity(3),B],axis=1))"
   ]
  },
  {
   "cell_type": "markdown",
   "metadata": {},
   "source": [
    "Method 2 (Jordan representation)"
   ]
  },
  {
   "cell_type": "code",
   "execution_count": 16,
   "metadata": {},
   "outputs": [
    {
     "data": {
      "text/latex": [
       "$\\displaystyle \\left[\\begin{matrix}-1 & 0 & 0\\\\0 & -2 - 3 i & 0\\\\0 & 0 & -2 + 3 i\\end{matrix}\\right]$"
      ],
      "text/plain": [
       "Matrix([\n",
       "[-1,        0,        0],\n",
       "[ 0, -2 - 3*I,        0],\n",
       "[ 0,        0, -2 + 3*I]])"
      ]
     },
     "execution_count": 16,
     "metadata": {},
     "output_type": "execute_result"
    }
   ],
   "source": [
    "J"
   ]
  },
  {
   "cell_type": "code",
   "execution_count": 17,
   "metadata": {},
   "outputs": [
    {
     "data": {
      "text/latex": [
       "$\\displaystyle \\left[\\begin{matrix}2\\\\1 - i\\\\1 + i\\end{matrix}\\right]$"
      ],
      "text/plain": [
       "Matrix([\n",
       "[    2],\n",
       "[1 - I],\n",
       "[1 + I]])"
      ]
     },
     "execution_count": 17,
     "metadata": {},
     "output_type": "execute_result"
    }
   ],
   "source": [
    "P.inv() @ B_sym"
   ]
  },
  {
   "cell_type": "markdown",
   "metadata": {},
   "source": [
    "### subtask 3\n",
    "A, B - fully controllable, so x_1 is in controllable space"
   ]
  },
  {
   "cell_type": "markdown",
   "metadata": {},
   "source": [
    "### subtask 4"
   ]
  },
  {
   "cell_type": "code",
   "execution_count": 18,
   "metadata": {},
   "outputs": [
    {
     "data": {
      "text/latex": [
       "$\\displaystyle \\left[\\begin{matrix}- \\frac{2}{e^{6}} + \\frac{4 \\cos{\\left(9 \\right)}}{3 e^{9}} - \\frac{29 \\cos^{2}{\\left(9 \\right)}}{26 e^{12}} - \\frac{101 \\sin^{2}{\\left(9 \\right)}}{26 e^{12}} - \\frac{2 \\sin{\\left(9 \\right)} \\cos{\\left(9 \\right)}}{13 e^{12}} + \\frac{4 \\sin{\\left(9 \\right)}}{e^{9}} + \\frac{139}{78} & - \\frac{17 \\cos^{2}{\\left(9 \\right)}}{26 e^{12}} - \\frac{61 \\sin^{2}{\\left(9 \\right)}}{26 e^{12}} + \\frac{6 \\sin{\\left(9 \\right)} \\cos{\\left(9 \\right)}}{13 e^{12}} + \\frac{4 \\sin{\\left(9 \\right)}}{3 e^{9}} + \\frac{17}{26} & - \\frac{155}{78} - \\frac{10 \\sin{\\left(9 \\right)}}{3 e^{9}} - \\frac{6 \\sin{\\left(9 \\right)} \\cos{\\left(9 \\right)}}{13 e^{12}} + \\frac{61 \\sin^{2}{\\left(9 \\right)}}{26 e^{12}} + \\frac{17 \\cos^{2}{\\left(9 \\right)}}{26 e^{12}} - \\frac{2 \\cos{\\left(9 \\right)}}{3 e^{9}} + \\frac{2}{e^{6}}\\\\- \\frac{17 \\cos^{2}{\\left(9 \\right)}}{26 e^{12}} - \\frac{61 \\sin^{2}{\\left(9 \\right)}}{26 e^{12}} + \\frac{6 \\sin{\\left(9 \\right)} \\cos{\\left(9 \\right)}}{13 e^{12}} + \\frac{4 \\sin{\\left(9 \\right)}}{3 e^{9}} + \\frac{17}{26} & - \\frac{7 \\cos^{2}{\\left(9 \\right)}}{13 e^{12}} - \\frac{19 \\sin^{2}{\\left(9 \\right)}}{13 e^{12}} + \\frac{8 \\sin{\\left(9 \\right)} \\cos{\\left(9 \\right)}}{13 e^{12}} + \\frac{7}{13} & - \\frac{7}{13} - \\frac{4 \\sin{\\left(9 \\right)}}{3 e^{9}} - \\frac{8 \\sin{\\left(9 \\right)} \\cos{\\left(9 \\right)}}{13 e^{12}} + \\frac{19 \\sin^{2}{\\left(9 \\right)}}{13 e^{12}} + \\frac{7 \\cos^{2}{\\left(9 \\right)}}{13 e^{12}}\\\\- \\frac{155}{78} - \\frac{10 \\sin{\\left(9 \\right)}}{3 e^{9}} - \\frac{6 \\sin{\\left(9 \\right)} \\cos{\\left(9 \\right)}}{13 e^{12}} + \\frac{61 \\sin^{2}{\\left(9 \\right)}}{26 e^{12}} + \\frac{17 \\cos^{2}{\\left(9 \\right)}}{26 e^{12}} - \\frac{2 \\cos{\\left(9 \\right)}}{3 e^{9}} + \\frac{2}{e^{6}} & - \\frac{7}{13} - \\frac{4 \\sin{\\left(9 \\right)}}{3 e^{9}} - \\frac{8 \\sin{\\left(9 \\right)} \\cos{\\left(9 \\right)}}{13 e^{12}} + \\frac{19 \\sin^{2}{\\left(9 \\right)}}{13 e^{12}} + \\frac{7 \\cos^{2}{\\left(9 \\right)}}{13 e^{12}} & - \\frac{2}{e^{6}} - \\frac{7 \\cos^{2}{\\left(9 \\right)}}{13 e^{12}} - \\frac{19 \\sin^{2}{\\left(9 \\right)}}{13 e^{12}} + \\frac{8 \\sin{\\left(9 \\right)} \\cos{\\left(9 \\right)}}{13 e^{12}} + \\frac{8 \\sin{\\left(9 \\right)}}{3 e^{9}} + \\frac{33}{13}\\end{matrix}\\right]$"
      ],
      "text/plain": [
       "Matrix([\n",
       "[  -2*exp(-6) + 4*exp(-9)*cos(9)/3 - 29*exp(-12)*cos(9)**2/26 - 101*exp(-12)*sin(9)**2/26 - 2*exp(-12)*sin(9)*cos(9)/13 + 4*exp(-9)*sin(9) + 139/78, -17*exp(-12)*cos(9)**2/26 - 61*exp(-12)*sin(9)**2/26 + 6*exp(-12)*sin(9)*cos(9)/13 + 4*exp(-9)*sin(9)/3 + 17/26, -155/78 - 10*exp(-9)*sin(9)/3 - 6*exp(-12)*sin(9)*cos(9)/13 + 61*exp(-12)*sin(9)**2/26 + 17*exp(-12)*cos(9)**2/26 - 2*exp(-9)*cos(9)/3 + 2*exp(-6)],\n",
       "[                                   -17*exp(-12)*cos(9)**2/26 - 61*exp(-12)*sin(9)**2/26 + 6*exp(-12)*sin(9)*cos(9)/13 + 4*exp(-9)*sin(9)/3 + 17/26,                        -7*exp(-12)*cos(9)**2/13 - 19*exp(-12)*sin(9)**2/13 + 8*exp(-12)*sin(9)*cos(9)/13 + 7/13,                                      -7/13 - 4*exp(-9)*sin(9)/3 - 8*exp(-12)*sin(9)*cos(9)/13 + 19*exp(-12)*sin(9)**2/13 + 7*exp(-12)*cos(9)**2/13],\n",
       "[-155/78 - 10*exp(-9)*sin(9)/3 - 6*exp(-12)*sin(9)*cos(9)/13 + 61*exp(-12)*sin(9)**2/26 + 17*exp(-12)*cos(9)**2/26 - 2*exp(-9)*cos(9)/3 + 2*exp(-6),   -7/13 - 4*exp(-9)*sin(9)/3 - 8*exp(-12)*sin(9)*cos(9)/13 + 19*exp(-12)*sin(9)**2/13 + 7*exp(-12)*cos(9)**2/13,                         -2*exp(-6) - 7*exp(-12)*cos(9)**2/13 - 19*exp(-12)*sin(9)**2/13 + 8*exp(-12)*sin(9)*cos(9)/13 + 8*exp(-9)*sin(9)/3 + 33/13]])"
      ]
     },
     "execution_count": 18,
     "metadata": {},
     "output_type": "execute_result"
    }
   ],
   "source": [
    "G_cont = grammian_cont(A_sym,B_sym,3)\n",
    "G_cont.simplify()\n",
    "G_cont"
   ]
  },
  {
   "cell_type": "code",
   "execution_count": 19,
   "metadata": {},
   "outputs": [
    {
     "data": {
      "text/latex": [
       "$\\displaystyle \\left[\\begin{matrix}1.77713790430325 & 0.653907118274642 & -1.98230970457295\\\\0.653907118274642 & 0.538455847007338 & -0.538523659622703\\\\-1.98230970457295 & -0.538523659622703 & 2.53363396788474\\end{matrix}\\right]$"
      ],
      "text/plain": [
       "Matrix([\n",
       "[ 1.77713790430325,  0.653907118274642,  -1.98230970457295],\n",
       "[0.653907118274642,  0.538455847007338, -0.538523659622703],\n",
       "[-1.98230970457295, -0.538523659622703,   2.53363396788474]])"
      ]
     },
     "execution_count": 19,
     "metadata": {},
     "output_type": "execute_result"
    }
   ],
   "source": [
    "G_cont.evalf()"
   ]
  },
  {
   "cell_type": "code",
   "execution_count": 60,
   "metadata": {},
   "outputs": [
    {
     "data": {
      "text/plain": [
       "{0.0554396805820522: 1, 0.438771511923131: 1, 4.35501652669014: 1}"
      ]
     },
     "execution_count": 60,
     "metadata": {},
     "output_type": "execute_result"
    }
   ],
   "source": [
    "G_cont.evalf().eigenvals()"
   ]
  },
  {
   "cell_type": "code",
   "execution_count": 61,
   "metadata": {},
   "outputs": [
    {
     "data": {
      "text/latex": [
       "$\\displaystyle 0.105937312022332$"
      ],
      "text/plain": [
       "0.105937312022332"
      ]
     },
     "execution_count": 61,
     "metadata": {},
     "output_type": "execute_result"
    }
   ],
   "source": [
    "G_cont.evalf().det()"
   ]
  },
  {
   "cell_type": "markdown",
   "metadata": {},
   "source": [
    "### subtask 5"
   ]
  },
  {
   "cell_type": "code",
   "execution_count": 21,
   "metadata": {},
   "outputs": [
    {
     "data": {
      "text/latex": [
       "$\\displaystyle \\left[\\begin{matrix}5\\\\3\\\\-3\\end{matrix}\\right]$"
      ],
      "text/plain": [
       "Matrix([\n",
       "[ 5],\n",
       "[ 3],\n",
       "[-3]])"
      ]
     },
     "execution_count": 21,
     "metadata": {},
     "output_type": "execute_result"
    }
   ],
   "source": [
    "x_1_sym = sympy.Matrix(x_1)\n",
    "x_1_sym"
   ]
  },
  {
   "cell_type": "code",
   "execution_count": 22,
   "metadata": {},
   "outputs": [
    {
     "data": {
      "text/latex": [
       "$\\displaystyle \\left[\\begin{matrix}- 9.19693793922647 e^{t - 3} - 32.7656618888738 e^{2 t - 6} \\sin{\\left(3 t - 9 \\right)} - 5.2444002466142 e^{2 t - 6} \\cos{\\left(3 t - 9 \\right)}\\end{matrix}\\right]$"
      ],
      "text/plain": [
       "Matrix([[-9.19693793922647*exp(t - 3) - 32.7656618888738*exp(2*t - 6)*sin(3*t - 9) - 5.2444002466142*exp(2*t - 6)*cos(3*t - 9)]])"
      ]
     },
     "execution_count": 22,
     "metadata": {},
     "output_type": "execute_result"
    }
   ],
   "source": [
    "u = B_sym.T @ sympy.exp(A_sym.T * (3 - t)) @ G_cont.evalf().inv() @ x_1_sym\n",
    "u"
   ]
  },
  {
   "cell_type": "markdown",
   "metadata": {},
   "source": [
    "### subtask 6"
   ]
  },
  {
   "cell_type": "code",
   "execution_count": 23,
   "metadata": {},
   "outputs": [],
   "source": [
    "u_f = lambdify(t,u[0,0],'numpy')"
   ]
  },
  {
   "cell_type": "code",
   "execution_count": 24,
   "metadata": {},
   "outputs": [
    {
     "data": {
      "text/latex": [
       "$$\n",
       "\\left(\\begin{array}{rllrllrll|rll}\n",
       "7\\phantom{.}&\\hspace{-1em}&\\hspace{-1em}\\phantom{\\cdot}&-7\\phantom{.}&\\hspace{-1em}&\\hspace{-1em}\\phantom{\\cdot}&8\\phantom{.}&\\hspace{-1em}&\\hspace{-1em}\\phantom{\\cdot}&-4\\phantom{.}&\\hspace{-1em}&\\hspace{-1em}\\phantom{\\cdot}\\\\\n",
       "6\\phantom{.}&\\hspace{-1em}&\\hspace{-1em}\\phantom{\\cdot}&-5\\phantom{.}&\\hspace{-1em}&\\hspace{-1em}\\phantom{\\cdot}&6\\phantom{.}&\\hspace{-1em}&\\hspace{-1em}\\phantom{\\cdot}&-2\\phantom{.}&\\hspace{-1em}&\\hspace{-1em}\\phantom{\\cdot}\\\\\n",
       "-6\\phantom{.}&\\hspace{-1em}&\\hspace{-1em}\\phantom{\\cdot}&4\\phantom{.}&\\hspace{-1em}&\\hspace{-1em}\\phantom{\\cdot}&-7\\phantom{.}&\\hspace{-1em}&\\hspace{-1em}\\phantom{\\cdot}&4\\phantom{.}&\\hspace{-1em}&\\hspace{-1em}\\phantom{\\cdot}\\\\\n",
       "\\hline\n",
       "0\\phantom{.}&\\hspace{-1em}&\\hspace{-1em}\\phantom{\\cdot}&0\\phantom{.}&\\hspace{-1em}&\\hspace{-1em}\\phantom{\\cdot}&0\\phantom{.}&\\hspace{-1em}&\\hspace{-1em}\\phantom{\\cdot}&0\\phantom{.}&\\hspace{-1em}&\\hspace{-1em}\\phantom{\\cdot}\\\\\n",
       "\\end{array}\\right)\n",
       "$$"
      ],
      "text/plain": [
       "<LinearIOSystem:sys[2]:['u[0]']->['y[0]']>"
      ]
     },
     "execution_count": 24,
     "metadata": {},
     "output_type": "execute_result"
    }
   ],
   "source": [
    "system = ctrl.ss(A,B,[0,0,0],0)\n",
    "system"
   ]
  },
  {
   "cell_type": "code",
   "execution_count": 25,
   "metadata": {},
   "outputs": [],
   "source": [
    "time_1 = np.linspace(0,3,int(3/dt))\n",
    "u_s = u_f(time_1)\n",
    "sys_out = ctrl.forced_response(system,U=u_s,X0=0,T=time_1)"
   ]
  },
  {
   "cell_type": "code",
   "execution_count": 26,
   "metadata": {},
   "outputs": [
    {
     "data": {
      "text/plain": [
       "array([ 5.00001559,  3.00000538, -3.00002265])"
      ]
     },
     "execution_count": 26,
     "metadata": {},
     "output_type": "execute_result"
    }
   ],
   "source": [
    "sys_out.states[:,-1]"
   ]
  },
  {
   "cell_type": "code",
   "execution_count": 27,
   "metadata": {},
   "outputs": [
    {
     "data": {
      "image/png": "[encoded data removed]",
      "text/plain": [
       "<Figure size 1800x600 with 3 Axes>"
      ]
     },
     "metadata": {},
     "output_type": "display_data"
    }
   ],
   "source": [
    "fig, ax = plt.subplots(1, 3, figsize=(18, 6))\n",
    "fig.suptitle(f\"Task 1. Forced movement for system $(A, B)$.\")\n",
    "\n",
    "for j in range(3):\n",
    "    ax[j].plot(time_1, sys_out.states[j,:])\n",
    "    ax[j].set_ylabel(f\"$x_{j+1}$\")\n",
    "    ax[j].set_xlabel(\"t, [s]\")\n",
    "    ax[j].grid(True)\n",
    "    ax[j].set_title(f\"Output signal $x_{j+1}$\")"
   ]
  },
  {
   "cell_type": "code",
   "execution_count": 79,
   "metadata": {},
   "outputs": [
    {
     "data": {
      "image/png": "[encoded data removed]",
      "text/plain": [
       "<Figure size 640x480 with 1 Axes>"
      ]
     },
     "metadata": {},
     "output_type": "display_data"
    }
   ],
   "source": [
    "plt.plot(time_1,u_s)\n",
    "plt.title(\"Task 1. Control signal.\")\n",
    "plt.xlabel(f\"$t$, [s]\")\n",
    "plt.ylabel(f\"$u$\")\n",
    "plt.grid()"
   ]
  },
  {
   "cell_type": "markdown",
   "metadata": {},
   "source": [
    "## Task 2"
   ]
  },
  {
   "cell_type": "code",
   "execution_count": 38,
   "metadata": {},
   "outputs": [],
   "source": [
    "A = np.array([\n",
    "    [7, -7, 8],\n",
    "    [6, -5, 6],\n",
    "    [-6, 4, -7]\n",
    "])\n",
    "\n",
    "B = np.array([\n",
    "    [2],\n",
    "    [0],\n",
    "    [0]\n",
    "])\n",
    "\n",
    "x_1_hat = np.array([\n",
    "    [5],\n",
    "    [3],\n",
    "    [-3]\n",
    "])\n",
    "\n",
    "x_2_hat = np.array([\n",
    "    [4],\n",
    "    [3],\n",
    "    [-2]\n",
    "])"
   ]
  },
  {
   "cell_type": "markdown",
   "metadata": {},
   "source": [
    "### subtask 1"
   ]
  },
  {
   "cell_type": "code",
   "execution_count": 39,
   "metadata": {},
   "outputs": [
    {
     "data": {
      "text/plain": [
       "array([[  2,  14, -82],\n",
       "       [  0,  12, -48],\n",
       "       [  0, -12,  48]])"
      ]
     },
     "execution_count": 39,
     "metadata": {},
     "output_type": "execute_result"
    }
   ],
   "source": [
    "U = np.concatenate([B, A.dot(B), A.dot(A.dot(B))],axis=1)\n",
    "U"
   ]
  },
  {
   "cell_type": "code",
   "execution_count": 40,
   "metadata": {},
   "outputs": [
    {
     "data": {
      "text/plain": [
       "2"
      ]
     },
     "execution_count": 40,
     "metadata": {},
     "output_type": "execute_result"
    }
   ],
   "source": [
    "np.linalg.matrix_rank(U)"
   ]
  },
  {
   "cell_type": "code",
   "execution_count": 48,
   "metadata": {},
   "outputs": [
    {
     "data": {
      "text/plain": [
       "2"
      ]
     },
     "execution_count": 48,
     "metadata": {},
     "output_type": "execute_result"
    }
   ],
   "source": [
    "np.linalg.matrix_rank(np.concatenate([U, x_1_hat],axis=1))"
   ]
  },
  {
   "cell_type": "code",
   "execution_count": 49,
   "metadata": {},
   "outputs": [
    {
     "data": {
      "text/plain": [
       "3"
      ]
     },
     "execution_count": 49,
     "metadata": {},
     "output_type": "execute_result"
    }
   ],
   "source": [
    "np.linalg.matrix_rank(np.concatenate([U, x_2_hat],axis=1))"
   ]
  },
  {
   "cell_type": "markdown",
   "metadata": {},
   "source": [
    "x_1_hat is in controllable subspace"
   ]
  },
  {
   "cell_type": "markdown",
   "metadata": {},
   "source": [
    "### subtask 2"
   ]
  },
  {
   "cell_type": "code",
   "execution_count": 41,
   "metadata": {},
   "outputs": [
    {
     "data": {
      "text/latex": [
       "$\\displaystyle \\left[\\begin{matrix}-1 & 0 & 0\\\\0 & -2 - 3 i & 0\\\\0 & 0 & -2 + 3 i\\end{matrix}\\right]$"
      ],
      "text/plain": [
       "Matrix([\n",
       "[-1,        0,        0],\n",
       "[ 0, -2 - 3*I,        0],\n",
       "[ 0,        0, -2 + 3*I]])"
      ]
     },
     "execution_count": 41,
     "metadata": {},
     "output_type": "execute_result"
    }
   ],
   "source": [
    "A_sym = sympy.Matrix(A)\n",
    "B_sym = sympy.Matrix(B)\n",
    "P, J = A_sym.jordan_form()\n",
    "J"
   ]
  },
  {
   "cell_type": "markdown",
   "metadata": {},
   "source": [
    "method 1 (rank creterion)"
   ]
  },
  {
   "cell_type": "code",
   "execution_count": 45,
   "metadata": {},
   "outputs": [
    {
     "data": {
      "text/plain": [
       "2"
      ]
     },
     "execution_count": 45,
     "metadata": {},
     "output_type": "execute_result"
    }
   ],
   "source": [
    "np.linalg.matrix_rank(np.concatenate([A-(-1)*np.identity(3),B],axis=1))"
   ]
  },
  {
   "cell_type": "code",
   "execution_count": 46,
   "metadata": {},
   "outputs": [
    {
     "data": {
      "text/plain": [
       "3"
      ]
     },
     "execution_count": 46,
     "metadata": {},
     "output_type": "execute_result"
    }
   ],
   "source": [
    "np.linalg.matrix_rank(np.concatenate([A-(-2-3j)*np.identity(3),B],axis=1))"
   ]
  },
  {
   "cell_type": "code",
   "execution_count": 47,
   "metadata": {},
   "outputs": [
    {
     "data": {
      "text/plain": [
       "3"
      ]
     },
     "execution_count": 47,
     "metadata": {},
     "output_type": "execute_result"
    }
   ],
   "source": [
    "np.linalg.matrix_rank(np.concatenate([A-(-2+3j)*np.identity(3),B],axis=1))"
   ]
  },
  {
   "cell_type": "markdown",
   "metadata": {},
   "source": [
    "method 2 (Jordan representation)"
   ]
  },
  {
   "cell_type": "code",
   "execution_count": 50,
   "metadata": {},
   "outputs": [
    {
     "data": {
      "text/latex": [
       "$\\displaystyle \\left[\\begin{matrix}-1 & 0 & 0\\\\0 & -2 - 3 i & 0\\\\0 & 0 & -2 + 3 i\\end{matrix}\\right]$"
      ],
      "text/plain": [
       "Matrix([\n",
       "[-1,        0,        0],\n",
       "[ 0, -2 - 3*I,        0],\n",
       "[ 0,        0, -2 + 3*I]])"
      ]
     },
     "execution_count": 50,
     "metadata": {},
     "output_type": "execute_result"
    }
   ],
   "source": [
    "J"
   ]
  },
  {
   "cell_type": "code",
   "execution_count": 51,
   "metadata": {},
   "outputs": [
    {
     "data": {
      "text/latex": [
       "$\\displaystyle \\left[\\begin{matrix}0\\\\- 2 i\\\\2 i\\end{matrix}\\right]$"
      ],
      "text/plain": [
       "Matrix([\n",
       "[   0],\n",
       "[-2*I],\n",
       "[ 2*I]])"
      ]
     },
     "execution_count": 51,
     "metadata": {},
     "output_type": "execute_result"
    }
   ],
   "source": [
    "P.inv() @ B"
   ]
  },
  {
   "cell_type": "markdown",
   "metadata": {},
   "source": [
    "-1 is non controllable"
   ]
  },
  {
   "cell_type": "markdown",
   "metadata": {},
   "source": [
    "### subtask 3"
   ]
  },
  {
   "cell_type": "markdown",
   "metadata": {},
   "source": [
    "we have chosen x_1 to be in controllable space"
   ]
  },
  {
   "cell_type": "markdown",
   "metadata": {},
   "source": [
    "### subtask 4"
   ]
  },
  {
   "cell_type": "code",
   "execution_count": 62,
   "metadata": {},
   "outputs": [
    {
     "data": {
      "text/latex": [
       "$\\displaystyle \\left[\\begin{matrix}- \\frac{67 \\cos^{2}{\\left(9 \\right)}}{13 e^{12}} - \\frac{63 \\sin^{2}{\\left(9 \\right)}}{13 e^{12}} - \\frac{72 \\sin{\\left(9 \\right)} \\cos{\\left(9 \\right)}}{13 e^{12}} + \\frac{67}{13} & - \\frac{33 \\cos^{2}{\\left(9 \\right)}}{13 e^{12}} - \\frac{45 \\sin^{2}{\\left(9 \\right)}}{13 e^{12}} - \\frac{44 \\sin{\\left(9 \\right)} \\cos{\\left(9 \\right)}}{13 e^{12}} + \\frac{33}{13} & - \\frac{33}{13} + \\frac{44 \\sin{\\left(9 \\right)} \\cos{\\left(9 \\right)}}{13 e^{12}} + \\frac{45 \\sin^{2}{\\left(9 \\right)}}{13 e^{12}} + \\frac{33 \\cos^{2}{\\left(9 \\right)}}{13 e^{12}}\\\\- \\frac{33 \\cos^{2}{\\left(9 \\right)}}{13 e^{12}} - \\frac{45 \\sin^{2}{\\left(9 \\right)}}{13 e^{12}} - \\frac{44 \\sin{\\left(9 \\right)} \\cos{\\left(9 \\right)}}{13 e^{12}} + \\frac{33}{13} & - \\frac{18 \\cos^{2}{\\left(9 \\right)}}{13 e^{12}} - \\frac{34 \\sin^{2}{\\left(9 \\right)}}{13 e^{12}} - \\frac{24 \\sin{\\left(9 \\right)} \\cos{\\left(9 \\right)}}{13 e^{12}} + \\frac{18}{13} & - \\frac{18}{13} + \\frac{24 \\sin{\\left(9 \\right)} \\cos{\\left(9 \\right)}}{13 e^{12}} + \\frac{34 \\sin^{2}{\\left(9 \\right)}}{13 e^{12}} + \\frac{18 \\cos^{2}{\\left(9 \\right)}}{13 e^{12}}\\\\- \\frac{33}{13} + \\frac{44 \\sin{\\left(9 \\right)} \\cos{\\left(9 \\right)}}{13 e^{12}} + \\frac{45 \\sin^{2}{\\left(9 \\right)}}{13 e^{12}} + \\frac{33 \\cos^{2}{\\left(9 \\right)}}{13 e^{12}} & - \\frac{18}{13} + \\frac{24 \\sin{\\left(9 \\right)} \\cos{\\left(9 \\right)}}{13 e^{12}} + \\frac{34 \\sin^{2}{\\left(9 \\right)}}{13 e^{12}} + \\frac{18 \\cos^{2}{\\left(9 \\right)}}{13 e^{12}} & - \\frac{18 \\cos^{2}{\\left(9 \\right)}}{13 e^{12}} - \\frac{34 \\sin^{2}{\\left(9 \\right)}}{13 e^{12}} - \\frac{24 \\sin{\\left(9 \\right)} \\cos{\\left(9 \\right)}}{13 e^{12}} + \\frac{18}{13}\\end{matrix}\\right]$"
      ],
      "text/plain": [
       "Matrix([\n",
       "[-67*exp(-12)*cos(9)**2/13 - 63*exp(-12)*sin(9)**2/13 - 72*exp(-12)*sin(9)*cos(9)/13 + 67/13, -33*exp(-12)*cos(9)**2/13 - 45*exp(-12)*sin(9)**2/13 - 44*exp(-12)*sin(9)*cos(9)/13 + 33/13, -33/13 + 44*exp(-12)*sin(9)*cos(9)/13 + 45*exp(-12)*sin(9)**2/13 + 33*exp(-12)*cos(9)**2/13],\n",
       "[-33*exp(-12)*cos(9)**2/13 - 45*exp(-12)*sin(9)**2/13 - 44*exp(-12)*sin(9)*cos(9)/13 + 33/13, -18*exp(-12)*cos(9)**2/13 - 34*exp(-12)*sin(9)**2/13 - 24*exp(-12)*sin(9)*cos(9)/13 + 18/13, -18/13 + 24*exp(-12)*sin(9)*cos(9)/13 + 34*exp(-12)*sin(9)**2/13 + 18*exp(-12)*cos(9)**2/13],\n",
       "[-33/13 + 44*exp(-12)*sin(9)*cos(9)/13 + 45*exp(-12)*sin(9)**2/13 + 33*exp(-12)*cos(9)**2/13, -18/13 + 24*exp(-12)*sin(9)*cos(9)/13 + 34*exp(-12)*sin(9)**2/13 + 18*exp(-12)*cos(9)**2/13, -18*exp(-12)*cos(9)**2/13 - 34*exp(-12)*sin(9)**2/13 - 24*exp(-12)*sin(9)*cos(9)/13 + 18/13]])"
      ]
     },
     "execution_count": 62,
     "metadata": {},
     "output_type": "execute_result"
    }
   ],
   "source": [
    "G_cont_2 = grammian_cont(A_sym,B_sym,3)\n",
    "G_cont_2.simplify()\n",
    "G_cont_2"
   ]
  },
  {
   "cell_type": "code",
   "execution_count": 63,
   "metadata": {},
   "outputs": [
    {
     "data": {
      "text/latex": [
       "$\\displaystyle \\left[\\begin{matrix}5.15382758646532 & 2.53845278703287 & -2.53845278703287\\\\2.53845278703287 & 1.38460985216837 & -1.38460985216837\\\\-2.53845278703287 & -1.38460985216837 & 1.38460985216837\\end{matrix}\\right]$"
      ],
      "text/plain": [
       "Matrix([\n",
       "[ 5.15382758646532,  2.53845278703287, -2.53845278703287],\n",
       "[ 2.53845278703287,  1.38460985216837, -1.38460985216837],\n",
       "[-2.53845278703287, -1.38460985216837,  1.38460985216837]])"
      ]
     },
     "execution_count": 63,
     "metadata": {},
     "output_type": "execute_result"
    }
   ],
   "source": [
    "G_cont_2.evalf()"
   ]
  },
  {
   "cell_type": "code",
   "execution_count": 64,
   "metadata": {},
   "outputs": [
    {
     "data": {
      "text/plain": [
       "{7.74425728549087: 1, 0.178790005311196: 1, 2.22358283615765e-64: 1}"
      ]
     },
     "execution_count": 64,
     "metadata": {},
     "output_type": "execute_result"
    }
   ],
   "source": [
    "G_cont_2.evalf().eigenvals()"
   ]
  },
  {
   "cell_type": "code",
   "execution_count": 66,
   "metadata": {},
   "outputs": [
    {
     "data": {
      "text/latex": [
       "$\\displaystyle -1.77635683940025 \\cdot 10^{-15}$"
      ],
      "text/plain": [
       "-1.77635683940025e-15"
      ]
     },
     "execution_count": 66,
     "metadata": {},
     "output_type": "execute_result"
    }
   ],
   "source": [
    "G_cont_2.evalf().det()"
   ]
  },
  {
   "cell_type": "markdown",
   "metadata": {},
   "source": [
    "### subtask 5"
   ]
  },
  {
   "cell_type": "code",
   "execution_count": 131,
   "metadata": {},
   "outputs": [
    {
     "data": {
      "text/latex": [
       "$\\displaystyle \\left[\\begin{matrix}5\\\\3\\\\-3\\end{matrix}\\right]$"
      ],
      "text/plain": [
       "Matrix([\n",
       "[ 5],\n",
       "[ 3],\n",
       "[-3]])"
      ]
     },
     "execution_count": 131,
     "metadata": {},
     "output_type": "execute_result"
    }
   ],
   "source": [
    "x_1_sym_2 = sympy.Matrix(x_1_hat)\n",
    "x_1_sym_2"
   ]
  },
  {
   "cell_type": "code",
   "execution_count": 132,
   "metadata": {},
   "outputs": [
    {
     "data": {
      "text/latex": [
       "$\\displaystyle \\left[\\begin{matrix}- 10.0000602188239 e^{2 t - 6} \\sin{\\left(3 t - 9 \\right)} - 2.00003235501539 e^{2 t - 6} \\cos{\\left(3 t - 9 \\right)}\\end{matrix}\\right]$"
      ],
      "text/plain": [
       "Matrix([[-10.0000602188239*exp(2*t - 6)*sin(3*t - 9) - 2.00003235501539*exp(2*t - 6)*cos(3*t - 9)]])"
      ]
     },
     "execution_count": 132,
     "metadata": {},
     "output_type": "execute_result"
    }
   ],
   "source": [
    "u_2 = B_sym.T @ sympy.exp(A_sym.T * (3 - t)) @ G_cont_2.evalf().pinv() @ x_1_sym_2\n",
    "u_2"
   ]
  },
  {
   "cell_type": "markdown",
   "metadata": {},
   "source": [
    "### subtask 6"
   ]
  },
  {
   "cell_type": "code",
   "execution_count": 133,
   "metadata": {},
   "outputs": [],
   "source": [
    "u_f_2 = lambdify(t,u_2[0,0],'numpy')"
   ]
  },
  {
   "cell_type": "code",
   "execution_count": 134,
   "metadata": {},
   "outputs": [
    {
     "data": {
      "text/latex": [
       "$$\n",
       "\\left(\\begin{array}{rllrllrll|rll}\n",
       "7\\phantom{.}&\\hspace{-1em}&\\hspace{-1em}\\phantom{\\cdot}&-7\\phantom{.}&\\hspace{-1em}&\\hspace{-1em}\\phantom{\\cdot}&8\\phantom{.}&\\hspace{-1em}&\\hspace{-1em}\\phantom{\\cdot}&2\\phantom{.}&\\hspace{-1em}&\\hspace{-1em}\\phantom{\\cdot}\\\\\n",
       "6\\phantom{.}&\\hspace{-1em}&\\hspace{-1em}\\phantom{\\cdot}&-5\\phantom{.}&\\hspace{-1em}&\\hspace{-1em}\\phantom{\\cdot}&6\\phantom{.}&\\hspace{-1em}&\\hspace{-1em}\\phantom{\\cdot}&0\\phantom{.}&\\hspace{-1em}&\\hspace{-1em}\\phantom{\\cdot}\\\\\n",
       "-6\\phantom{.}&\\hspace{-1em}&\\hspace{-1em}\\phantom{\\cdot}&4\\phantom{.}&\\hspace{-1em}&\\hspace{-1em}\\phantom{\\cdot}&-7\\phantom{.}&\\hspace{-1em}&\\hspace{-1em}\\phantom{\\cdot}&0\\phantom{.}&\\hspace{-1em}&\\hspace{-1em}\\phantom{\\cdot}\\\\\n",
       "\\hline\n",
       "0\\phantom{.}&\\hspace{-1em}&\\hspace{-1em}\\phantom{\\cdot}&0\\phantom{.}&\\hspace{-1em}&\\hspace{-1em}\\phantom{\\cdot}&0\\phantom{.}&\\hspace{-1em}&\\hspace{-1em}\\phantom{\\cdot}&0\\phantom{.}&\\hspace{-1em}&\\hspace{-1em}\\phantom{\\cdot}\\\\\n",
       "\\end{array}\\right)\n",
       "$$"
      ],
      "text/plain": [
       "<LinearIOSystem:sys[8]:['u[0]']->['y[0]']>"
      ]
     },
     "execution_count": 134,
     "metadata": {},
     "output_type": "execute_result"
    }
   ],
   "source": [
    "system_2 = ctrl.ss(A,B,[0,0,0],0)\n",
    "system_2"
   ]
  },
  {
   "cell_type": "code",
   "execution_count": 135,
   "metadata": {},
   "outputs": [],
   "source": [
    "time_2 = np.linspace(0,3,int(3/dt))\n",
    "u_s_2 = u_f_2(time_2)\n",
    "sys_out_2 = ctrl.forced_response(system_2,U=u_s_2,X0=0,T=time_2)"
   ]
  },
  {
   "cell_type": "code",
   "execution_count": 136,
   "metadata": {},
   "outputs": [
    {
     "data": {
      "text/plain": [
       "array([ 4.99998991,  2.99999575, -2.99999575])"
      ]
     },
     "execution_count": 136,
     "metadata": {},
     "output_type": "execute_result"
    }
   ],
   "source": [
    "sys_out_2.states[:,-1]"
   ]
  },
  {
   "cell_type": "code",
   "execution_count": 137,
   "metadata": {},
   "outputs": [
    {
     "data": {
      "image/png": "[encoded data removed]",
      "text/plain": [
       "<Figure size 1800x600 with 3 Axes>"
      ]
     },
     "metadata": {},
     "output_type": "display_data"
    }
   ],
   "source": [
    "fig, ax = plt.subplots(1, 3, figsize=(18, 6))\n",
    "fig.suptitle(f\"Task 2. Forced movement for system $(A, B)$.\")\n",
    "\n",
    "for j in range(3):\n",
    "    ax[j].plot(time_2, sys_out_2.states[j,:])\n",
    "    ax[j].set_ylabel(f\"$x_{j+1}$\")\n",
    "    ax[j].set_xlabel(\"t, [s]\")\n",
    "    ax[j].grid(True)\n",
    "    ax[j].set_title(f\"Output signal $x_{j+1}$\")"
   ]
  },
  {
   "cell_type": "code",
   "execution_count": 138,
   "metadata": {},
   "outputs": [
    {
     "data": {
      "image/png": "[encoded data removed]",
      "text/plain": [
       "<Figure size 640x480 with 1 Axes>"
      ]
     },
     "metadata": {},
     "output_type": "display_data"
    }
   ],
   "source": [
    "plt.plot(time_1,u_s)\n",
    "plt.title(\"Task 2. Control signal.\")\n",
    "plt.xlabel(f\"$t$, [s]\")\n",
    "plt.ylabel(f\"$u$\")\n",
    "plt.grid()"
   ]
  },
  {
   "cell_type": "code",
   "execution_count": null,
   "metadata": {},
   "outputs": [],
   "source": []
  },
  {
   "cell_type": "code",
   "execution_count": null,
   "metadata": {},
   "outputs": [],
   "source": []
  }
 ],
 "metadata": {
  "kernelspec": {
   "display_name": "control",
   "language": "python",
   "name": "python3"
  },
  "language_info": {
   "codemirror_mode": {
    "name": "ipython",
    "version": 3
   },
   "file_extension": ".py",
   "mimetype": "text/x-python",
   "name": "python",
   "nbconvert_exporter": "python",
   "pygments_lexer": "ipython3",
   "version": "3.10.11"
  }
 },
 "nbformat": 4,
 "nbformat_minor": 2
}
